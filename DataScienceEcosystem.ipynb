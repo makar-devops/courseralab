{
 "cells": [
  {
   "cell_type": "markdown",
   "id": "75b1263f-6da4-45cb-8be4-1bc99d30c683",
   "metadata": {},
   "source": [
    "# Data Science Tools and Ecosystem"
   ]
  },
  {
   "cell_type": "markdown",
   "id": "7c8b3ed9-e943-48dc-95f1-438a54029f7c",
   "metadata": {},
   "source": [
    "In this notebook, Data Science tools and ecosystem are summarized."
   ]
  },
  {
   "cell_type": "markdown",
   "id": "469ef893-e094-484d-a075-e4b35c46965d",
   "metadata": {},
   "source": [
    "**Objectives**\n",
    "- Data Science languages\n",
    "- Data Science libraries\n",
    "- IDEs \n",
    "- Practical examples"
   ]
  },
  {
   "cell_type": "markdown",
   "id": "70de5285-b8b2-49a4-8dde-59c3963a8d74",
   "metadata": {},
   "source": [
    "Some of the popular Data Science languages are:\n",
    "\n",
    "1. Python - for example, for ML\n",
    "2. R - for example, for Data Visualization & Processing\n",
    "3. Julia - for example, for Data Cleaning\n",
    "4. SQL - for example, for manipulating relational databases\n",
    "5. Scala - for example, for big data processing"
   ]
  },
  {
   "cell_type": "markdown",
   "id": "5894e8c9-cc39-43d3-a319-64e8ae853187",
   "metadata": {},
   "source": [
    "Additionally, some of the most popular libraries include:\n",
    "1. NumPy - numeric computing in Python\n",
    "2. ggplot - plotting in R\n",
    "3. Pandas - data structures & analysis in Python\n",
    "4. Matplotlib - plotting in Python\n",
    "5. PyTorch - ML in Python"
   ]
  },
  {
   "cell_type": "markdown",
   "id": "f7f8003e-c00d-4660-8a47-961a97a90411",
   "metadata": {},
   "source": [
    "Some of the Data Science open-source development environments. Presented in the table format:\n",
    "\n",
    "| Data Science Tool |\n",
    "|:--------------------------:|\n",
    "|  Jupyter Notebook   |\n",
    "|  VS Code   |\n",
    "|  R Studio   |"
   ]
  },
  {
   "cell_type": "markdown",
   "id": "64fa9455-b137-4740-9141-c170e77cfae8",
   "metadata": {},
   "source": [
    "### Here are some examples of evaluating arithmetic expressions in Python:"
   ]
  },
  {
   "cell_type": "code",
   "execution_count": 2,
   "id": "cccccd20-708c-4522-86eb-48460424b533",
   "metadata": {
    "tags": []
   },
   "outputs": [
    {
     "data": {
      "text/plain": [
       "17"
      ]
     },
     "execution_count": 2,
     "metadata": {},
     "output_type": "execute_result"
    }
   ],
   "source": [
    "#An example of simple aritcmetic expression\n",
    "\n",
    "(3*4)+5"
   ]
  },
  {
   "cell_type": "code",
   "execution_count": 5,
   "id": "7cd72f27-4d80-456b-96e2-be3b6a2ffcfa",
   "metadata": {
    "tags": []
   },
   "outputs": [
    {
     "data": {
      "text/plain": [
       "3.3333333333333335"
      ]
     },
     "execution_count": 5,
     "metadata": {},
     "output_type": "execute_result"
    }
   ],
   "source": [
    "#This will convert 200 minutes to hours by diving by 60\n",
    "\n",
    "200/60"
   ]
  },
  {
   "cell_type": "markdown",
   "id": "93008507-ebe3-42af-a193-06a6103c6f9a",
   "metadata": {},
   "source": [
    "## Author\n",
    "Makar Nalimov\n"
   ]
  }
 ],
 "metadata": {
  "kernelspec": {
   "display_name": "Python",
   "language": "python",
   "name": "conda-env-python-py"
  },
  "language_info": {
   "codemirror_mode": {
    "name": "ipython",
    "version": 3
   },
   "file_extension": ".py",
   "mimetype": "text/x-python",
   "name": "python",
   "nbconvert_exporter": "python",
   "pygments_lexer": "ipython3",
   "version": "3.7.12"
  }
 },
 "nbformat": 4,
 "nbformat_minor": 5
}
